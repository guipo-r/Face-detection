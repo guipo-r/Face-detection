{
 "cells": [
  {
   "cell_type": "markdown",
   "id": "61fd1b66",
   "metadata": {},
   "source": [
    "# Face Detection using OpenCV"
   ]
  },
  {
   "cell_type": "markdown",
   "id": "d3031c68",
   "metadata": {},
   "source": [
    "## Imports"
   ]
  },
  {
   "cell_type": "code",
   "execution_count": 1,
   "id": "5483bb48",
   "metadata": {},
   "outputs": [
    {
     "name": "stdout",
     "output_type": "stream",
     "text": [
      "Defaulting to user installation because normal site-packages is not writeable\n",
      "Requirement already satisfied: opencv-python in c:\\users\\guido rocatti\\appdata\\roaming\\python\\python39\\site-packages (4.8.0.74)\n",
      "Requirement already satisfied: numpy>=1.19.3 in c:\\programdata\\anaconda3\\lib\\site-packages (from opencv-python) (1.23.5)\n",
      "Note: you may need to restart the kernel to use updated packages.\n"
     ]
    }
   ],
   "source": [
    "pip install opencv-python"
   ]
  },
  {
   "cell_type": "code",
   "execution_count": 2,
   "id": "e7351b63",
   "metadata": {},
   "outputs": [],
   "source": [
    "import cv2\n",
    "import pandas"
   ]
  },
  {
   "cell_type": "markdown",
   "id": "517860da",
   "metadata": {},
   "source": [
    "## Data Load"
   ]
  },
  {
   "cell_type": "markdown",
   "id": "be4ba99a",
   "metadata": {},
   "source": [
    "#### Loading XML file with Pre-trained Model"
   ]
  },
  {
   "cell_type": "code",
   "execution_count": 3,
   "id": "e1f65abf",
   "metadata": {},
   "outputs": [],
   "source": [
    "face_cascade = cv2.CascadeClassifier('face_detector.xml') # XML file with the pre-trained classification model"
   ]
  },
  {
   "cell_type": "code",
   "execution_count": 4,
   "id": "ea1a27fb",
   "metadata": {},
   "outputs": [
    {
     "data": {
      "text/plain": [
       "< cv2.CascadeClassifier 0000025EDA63D590>"
      ]
     },
     "execution_count": 4,
     "metadata": {},
     "output_type": "execute_result"
    }
   ],
   "source": [
    "face_cascade"
   ]
  },
  {
   "cell_type": "markdown",
   "id": "37b8497b",
   "metadata": {},
   "source": [
    "#### Loading sample image"
   ]
  },
  {
   "cell_type": "code",
   "execution_count": 5,
   "id": "b0b59c51",
   "metadata": {},
   "outputs": [],
   "source": [
    "#img = cv2.imread('caetano.jpg')"
   ]
  },
  {
   "cell_type": "code",
   "execution_count": 6,
   "id": "fc35062f",
   "metadata": {},
   "outputs": [],
   "source": [
    "img = cv2.imread('image_example.jpg')"
   ]
  },
  {
   "cell_type": "code",
   "execution_count": 7,
   "id": "32de1c61",
   "metadata": {},
   "outputs": [
    {
     "data": {
      "text/plain": [
       "-1"
      ]
     },
     "execution_count": 7,
     "metadata": {},
     "output_type": "execute_result"
    }
   ],
   "source": [
    "cv2.imshow('window', img)\n",
    "\n",
    "# This code I looked up on Medium helps to avoid imshow() freezing\n",
    "\n",
    "cv2.waitKey(0)\n",
    "cv2.destroyAllWindows()\n",
    "cv2.waitKey(1)"
   ]
  },
  {
   "cell_type": "markdown",
   "id": "c4511918",
   "metadata": {},
   "source": [
    "## Detect Faces"
   ]
  },
  {
   "cell_type": "code",
   "execution_count": 8,
   "id": "2d3f4d60",
   "metadata": {},
   "outputs": [],
   "source": [
    "# Detects objects of different sizes in the input image. The detected objects are returned as a list of rectangles\n",
    "# This function will return a rectangle with coordinates(x,y,w,h) around the detected face. It takes 3 common \n",
    "# arguments — the input image, scaleFactor, and minNeighbours. scaleFactor specifies how much the image size is \n",
    "# reduced with each scale\n",
    "\n",
    "faces = face_cascade.detectMultiScale(img, 1.1, 2)"
   ]
  },
  {
   "cell_type": "markdown",
   "id": "887c2d5e",
   "metadata": {},
   "source": [
    "## Draw Rectangles around detected faces"
   ]
  },
  {
   "cell_type": "code",
   "execution_count": 9,
   "id": "f8f6fb52",
   "metadata": {},
   "outputs": [
    {
     "data": {
      "text/plain": [
       "array([[256,  86, 121, 121],\n",
       "       [253, 131, 121, 121]])"
      ]
     },
     "execution_count": 9,
     "metadata": {},
     "output_type": "execute_result"
    }
   ],
   "source": [
    "# If we check faces array, we can see there are coordinates for 3 distinct rectangles\n",
    "# That should mean there are 3 faces detected\n",
    "\n",
    "faces"
   ]
  },
  {
   "cell_type": "code",
   "execution_count": 10,
   "id": "55eb7ad2",
   "metadata": {},
   "outputs": [
    {
     "name": "stdout",
     "output_type": "stream",
     "text": [
      "Successfully saved\n"
     ]
    }
   ],
   "source": [
    "for (x, y, w, h) in faces: \n",
    "  cv2.rectangle(img, (x, y), (x+w, y+h), (255, 0, 0), 1)\n",
    "cv2.imwrite(\"face_detected.png\", img) \n",
    "print('Successfully saved')"
   ]
  },
  {
   "cell_type": "markdown",
   "id": "debb6157",
   "metadata": {},
   "source": [
    "## Check detected faces"
   ]
  },
  {
   "cell_type": "code",
   "execution_count": 11,
   "id": "a8c6c8cb",
   "metadata": {},
   "outputs": [],
   "source": [
    "detected_faces = cv2.imread('face_detected.png')"
   ]
  },
  {
   "cell_type": "code",
   "execution_count": 12,
   "id": "0c3fb631",
   "metadata": {},
   "outputs": [
    {
     "data": {
      "text/plain": [
       "-1"
      ]
     },
     "execution_count": 12,
     "metadata": {},
     "output_type": "execute_result"
    }
   ],
   "source": [
    "cv2.imshow('window', detected_faces)\n",
    "\n",
    "# This code I looked up on Medium helps to avoid imshow() freezing\n",
    "\n",
    "cv2.waitKey(0)\n",
    "cv2.destroyAllWindows()\n",
    "cv2.waitKey(1)"
   ]
  }
 ],
 "metadata": {
  "kernelspec": {
   "display_name": "Python 3 (ipykernel)",
   "language": "python",
   "name": "python3"
  },
  "language_info": {
   "codemirror_mode": {
    "name": "ipython",
    "version": 3
   },
   "file_extension": ".py",
   "mimetype": "text/x-python",
   "name": "python",
   "nbconvert_exporter": "python",
   "pygments_lexer": "ipython3",
   "version": "3.9.13"
  }
 },
 "nbformat": 4,
 "nbformat_minor": 5
}
